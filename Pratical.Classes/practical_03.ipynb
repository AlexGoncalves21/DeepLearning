{
 "cells": [
  {
   "cell_type": "markdown",
   "id": "58cae916",
   "metadata": {},
   "source": [
    "# Linear and Logistic Regression "
   ]
  },
  {
   "cell_type": "code",
   "execution_count": 27,
   "id": "28801b13",
   "metadata": {},
   "outputs": [],
   "source": [
    "%matplotlib inline\n",
    "\n",
    "import numpy as np\n",
    "import matplotlib.pyplot as plt"
   ]
  },
  {
   "cell_type": "markdown",
   "id": "6154151e",
   "metadata": {},
   "source": [
    "## Question 1\n",
    "\n",
    "Consider the following training data:\n",
    "\n",
    "$\\mathbf{x^{(1)}} =\\begin{bmatrix} 1 \\\\ 1  \\\\ \\end{bmatrix} $,  $\\mathbf{x^{(2)}} =\\begin{bmatrix} 2 \\\\ 1  \\\\ \\end{bmatrix} $,   $\\mathbf{x^{(3)}} =\\begin{bmatrix} 1 \\\\ 3 \\\\ \\end{bmatrix} $,      $\\mathbf{x^{(4)}} =\\begin{bmatrix} 3 \\\\ 3  \\\\ \\end{bmatrix} $\n",
    "\n",
    "$y^{(1)} = 1.4$, $y^{(2)} = 0.5$, $y^{(3)} = 2$, $y^{(4)} = 2.5$\n",
    "\n",
    "Our goal is to fit a Linear Regression that minimizes the sum of squared errors on the training data.\n",
    "\n",
    "❓ Find the closed form solution for a linear regression that minimizes the sum of squared errors on the training data. You need to:\n",
    " 1. Define matrix $\\mathbf{X}$ with shape $n \\times (d+1)$, accounting for the bias parameter.\n",
    " 2. Define target vector $\\mathbf{y}$\n",
    " 3. Use closed form solution to get optimal $\\mathbf{\\hat{w}}$\n",
    "\n",
    "Useful functions: [`np.linalg.inv`](https://numpy.org/doc/stable/reference/generated/numpy.linalg.inv.html)"
   ]
  },
  {
   "cell_type": "code",
   "execution_count": 28,
   "id": "948d11a6",
   "metadata": {},
   "outputs": [],
   "source": [
    "# Find w - your code here\n",
    "\n",
    "# Add column with ones to handle the bias coefficient.\n",
    "\n",
    "# Compute weights.\n"
   ]
  },
  {
   "cell_type": "markdown",
   "id": "e88dc5e2",
   "metadata": {},
   "source": [
    "❓ Predict the target value for $\\mathbf{x_{query}} = [2, 3]^\\top$"
   ]
  },
  {
   "cell_type": "code",
   "execution_count": 29,
   "id": "bc8d2c3b",
   "metadata": {},
   "outputs": [],
   "source": [
    "# your code here\n"
   ]
  },
  {
   "cell_type": "markdown",
   "id": "86fbec23",
   "metadata": {},
   "source": [
    "❓ Use the provided function `plot_hyperplane_3d` to plot the training data and the predicted hyperplane. "
   ]
  },
  {
   "cell_type": "code",
   "execution_count": 30,
   "id": "daa045ea",
   "metadata": {},
   "outputs": [],
   "source": [
    "'''\n",
    "Function that plots hyperplane defined by weights w, sucht that w.x = 0.\n",
    "points: matrix with observations where the fisrt column is supposed to be the bias constant column\n",
    "target: target vector  \n",
    "'''\n",
    "\n",
    "def plot_hyperplane_3d(w, points, target):\n",
    "    x1 = np.linspace(0, 4, 10)\n",
    "    x2 = np.linspace(0, 4, 10)\n",
    "    a, b = np.meshgrid(x1,x2)\n",
    "    N = x1.size\n",
    "    X = np.array([np.ones(N**2), a.ravel(), b.ravel()]).transpose()\n",
    "    o = X.dot(w)\n",
    "    \n",
    "    ax = plt.figure().add_subplot(projection='3d')\n",
    "    ax.plot_surface(a, b, np.reshape(o,(N,N)), alpha=0.5,\n",
    "                    linewidth=0, antialiased=True)\n",
    "    ax.scatter(points[:,1], points[:,2], y, color='red')"
   ]
  },
  {
   "cell_type": "code",
   "execution_count": 31,
   "id": "d0e407d0",
   "metadata": {},
   "outputs": [],
   "source": [
    "# Plot your solution here\n"
   ]
  },
  {
   "cell_type": "markdown",
   "id": "ebe4690c",
   "metadata": {},
   "source": [
    "❓ Compute the mean squared error produced by the linear regression."
   ]
  },
  {
   "cell_type": "code",
   "execution_count": 32,
   "id": "b7e01f00",
   "metadata": {},
   "outputs": [],
   "source": [
    "# your code here\n",
    "\n"
   ]
  },
  {
   "cell_type": "markdown",
   "id": "6441b0a8",
   "metadata": {},
   "source": [
    "## Question 2\n",
    "\n",
    "Consider the following training data:\n",
    "\n",
    "$\\mathbf{x^{(1)}} =\\begin{bmatrix} 3 \\end{bmatrix} $,  $\\mathbf{x^{(2)}} =\\begin{bmatrix} 4 \\end{bmatrix} $,   $\\mathbf{x^{(3)}} =\\begin{bmatrix} 6 \\end{bmatrix} $,      $\\mathbf{x^{(4)}} =\\begin{bmatrix} 10 \\end{bmatrix} $, \n",
    " $\\mathbf{x^{(5)}} =\\begin{bmatrix} 12 \\end{bmatrix} $\n",
    "\n",
    "$y^{(1)} = 1.5$, $y^{(2)} = 11.3$, $y^{(3)} = 20.4$, $y^{(4)} = 35.8$, $y^{(5)} = 70.1$\n",
    "\n",
    "❓ Define `x` and `y` arrays with your data and plot it.\n",
    "\n",
    "*Hint:* Think about what shape your data should have. E.g.:`x.shape` should be `(5,1)`"
   ]
  },
  {
   "cell_type": "code",
   "execution_count": 33,
   "id": "89229b9c",
   "metadata": {},
   "outputs": [],
   "source": [
    "# Your code here\n"
   ]
  },
  {
   "cell_type": "markdown",
   "id": "850c5b4b",
   "metadata": {},
   "source": [
    "It is useful to consider non-linear regressions. In this question you will adopt **feature transformations** in order to fit non-linear regressions on the training data.\n",
    "\n",
    "❓ Apply a logarithmic transformation $\\phi(x_1) = log(x_1)$ and write down the closed form solution for this non-linear regression that minimizes the sum of squared errors on the training data. \n",
    "\n",
    "❓ Complete function `non_linear_regression` below:"
   ]
  },
  {
   "cell_type": "code",
   "execution_count": 34,
   "id": "30c229e2",
   "metadata": {},
   "outputs": [],
   "source": [
    "'''\n",
    "Inputs:\n",
    "    x - vector of 1D observations, should have shape (n x 1)\n",
    "    y - target vector, should have shape (n,)\n",
    "    phi - function (feature transformation to apply)\n",
    "\n",
    "Output: \n",
    "    X_phi - feature matrix of shape (n x 2) (accounting for bias)\n",
    "    w - vector of weights found by the Least Squares Method\n",
    "'''\n",
    "\n",
    "def non_linear_regression(x,y,phi):\n",
    "    # Apply transformation\n",
    "    \n",
    "    # Construct X vector (accounting for bias)\n",
    "    \n",
    "    # Find solution\n",
    "        \n",
    "    return X_phi, w\n"
   ]
  },
  {
   "cell_type": "markdown",
   "id": "e7d1634a",
   "metadata": {},
   "source": [
    "❓ Fit a regression on the training data with transformation $\\phi(x_1) = log(x_1)$.\n",
    "\n",
    "❓ Fit a regression on the training data with transformation $\\phi(x_1) = x_1^2$."
   ]
  },
  {
   "cell_type": "code",
   "execution_count": 35,
   "id": "504da6d3",
   "metadata": {},
   "outputs": [],
   "source": [
    "def phi1(x):\n",
    "    return np.log(x)\n",
    "def phi2(x):\n",
    "    return x**2"
   ]
  },
  {
   "cell_type": "code",
   "execution_count": 36,
   "id": "6be8c13e",
   "metadata": {},
   "outputs": [],
   "source": [
    "# Your code here\n"
   ]
  },
  {
   "cell_type": "markdown",
   "id": "ac4ea6a5",
   "metadata": {},
   "source": [
    "❓ Plot both regressions along with the training points."
   ]
  },
  {
   "cell_type": "code",
   "execution_count": 37,
   "id": "42f4975d",
   "metadata": {},
   "outputs": [],
   "source": [
    "#plt.scatter(x,y)\n",
    "# your regressions here \n",
    "\n",
    "\n",
    "plt.show()"
   ]
  },
  {
   "cell_type": "markdown",
   "id": "00808045",
   "metadata": {},
   "source": [
    "❓ Which one is a better fit? "
   ]
  },
  {
   "cell_type": "code",
   "execution_count": 38,
   "id": "b35f5337",
   "metadata": {},
   "outputs": [],
   "source": [
    "# Your code here\n",
    "\n"
   ]
  },
  {
   "cell_type": "markdown",
   "id": "a5d79fd3",
   "metadata": {},
   "source": [
    "❓ **(Optional):** Generalize your function to be able to apply several feature transformations, *i.e.*, to perform regressions of type:\n",
    "\n",
    "$$\\hat{y}(x) = w_0 + w_1\\phi_1(x) + ... + w_d\\phi_d(x)$$\n",
    "\n",
    "Use your function to fit a polynomial of degree 3 to the training data."
   ]
  },
  {
   "cell_type": "code",
   "execution_count": 39,
   "id": "0687d9e8",
   "metadata": {},
   "outputs": [],
   "source": [
    "def multi_non_linear_regression(x,y,phi_list):\n",
    "        \n",
    "    # Construct X vector (accounting for bias):\n",
    "    \n",
    "    \n",
    "    # Find solution\n",
    "    \n",
    "    \n",
    "    return X_phi, w"
   ]
  },
  {
   "cell_type": "markdown",
   "id": "7a28fa3c",
   "metadata": {},
   "source": [
    "## Question 3\n",
    "\n",
    "In this exercise, we will consider binary logistic regression:\n",
    "\n",
    "\n",
    "$$p_{\\mathbf{w}}\\left(y=1 \\mid \\mathbf{x}\\right) = \\sigma(\\mathbf{w} \\cdot \\mathbf{x}) = \\frac{1}{1+\\exp\\left(-\\mathbf{w}\\cdot\\mathbf{x}\\right)}$$\n",
    "\n",
    "with the following training data:\n",
    "\n",
    "\n",
    "$\\mathbf{x^{(1)}} =\\begin{bmatrix} -1 \\\\ 0  \\\\ \\end{bmatrix} $,  $\\mathbf{x^{(2)}} =\\begin{bmatrix} 0 \\\\ 0.25  \\\\ \\end{bmatrix} $,   $\\mathbf{x^{(3)}} =\\begin{bmatrix} 1 \\\\ 1 \\\\ \\end{bmatrix} $,      $\\mathbf{x^{(4)}} =\\begin{bmatrix} 1 \\\\ -1  \\\\ \\end{bmatrix} $\n",
    "\n",
    "$y^{(1)} = 0$, $y^{(2)} = 1$, $y^{(3)} = 1$, $y^{(4)} = 0$\n",
    "\n",
    "using the cross-entropy loss function.\n",
    "\n",
    "❓ Complete function `lr_batch_gd` that computes one epoch of batch gradient descent for the logistic regression with cross-entropy loss:"
   ]
  },
  {
   "cell_type": "code",
   "execution_count": 40,
   "id": "f60d3041",
   "metadata": {},
   "outputs": [],
   "source": [
    "'''\n",
    "Receives:\n",
    "    inputs: observations array of shape (n x (p+1)) accounting for bias\n",
    "    labels: array of target values of shape (n, )\n",
    "    w: initial array of weights shape ((p+1), )\n",
    "    eta: scalar for learning rate\n",
    "Returns:\n",
    "    w: updated weights\n",
    "'''\n",
    "\n",
    "def lr_batch_gd(inputs, labels, w, eta):\n",
    "    # Compute vector of probabilities of size p+1.\n",
    "\n",
    "    # Compute gradient of loss function; vector of size p+1.\n",
    "\n",
    "    # Gradient descent update of w\n",
    "    return w"
   ]
  },
  {
   "cell_type": "markdown",
   "id": "dbb673b4",
   "metadata": {},
   "source": [
    "❓ Test your function on the provided training data assuming an initialization of all zeros for the weights and a learning rate of $\\eta=1$"
   ]
  },
  {
   "cell_type": "code",
   "execution_count": 41,
   "id": "a35ccc04",
   "metadata": {},
   "outputs": [],
   "source": [
    "x = np.array([[-1,0],\n",
    "              [0, 0.25],\n",
    "              [1, 1],\n",
    "              [1, -1]])\n",
    "\n",
    "# Adding column of 1s to account for bias\n",
    "inputs = np.concatenate([np.ones((x.shape[0],1)), x], axis = 1)\n",
    "\n",
    "y = np.array([0, 1, 1, 0])\n",
    "\n",
    "# Initialize weights and set learning rate\n",
    "\n",
    "\n",
    "# Test function\n"
   ]
  },
  {
   "cell_type": "markdown",
   "id": "5900dfc1",
   "metadata": {},
   "source": [
    "Let us now use **stochastic gradient descent** where we make one weight update for each training example, i.e. in one epoch there should be $n$ weight updates.\n",
    "\n",
    "❓ Complete function `lr_sgd` to execute one epoch of stochastic gradient descent. Test your function on the training data.\n",
    "\n",
    "*Hint:* Python's [`zip`](https://www.geeksforgeeks.org/zip-in-python/) function is useful to iterate through several lists/arrays in parallel. "
   ]
  },
  {
   "cell_type": "code",
   "execution_count": 42,
   "id": "07d55a0e",
   "metadata": {},
   "outputs": [],
   "source": [
    "'''\n",
    "Receives:\n",
    "    inputs: observations array of shape (n x (p+1)) accounting for bias\n",
    "    labels: array of target values of shape (n, )\n",
    "    w: initial array of weights shape ((p+1), )\n",
    "    eta: scalar for learning rate\n",
    "Returns:\n",
    "    w: updated weights\n",
    "'''\n",
    "\n",
    "def lr_sgd(inputs, labels, w, eta):\n",
    "    # For each training example \n",
    "    \n",
    "        # Compute probability y_hat\n",
    "        \n",
    "        # Compute gradient\n",
    "        \n",
    "        # Update weights:\n",
    "        \n",
    "    return w"
   ]
  },
  {
   "cell_type": "markdown",
   "id": "62ca204f",
   "metadata": {},
   "source": [
    "❓ Compute 3 epochs of SGD on your training data and use the provided `plot_separation_line` to see your end results."
   ]
  },
  {
   "cell_type": "code",
   "execution_count": 43,
   "id": "705b9701",
   "metadata": {},
   "outputs": [],
   "source": [
    "# Plot separation line associated with model w, along with the data.\n",
    "def plot_separation_line(inputs, labels, w):\n",
    "    # Plot data.\n",
    "    plt.plot(inputs[labels == 0, 1], inputs[labels == 0, 2], \"b.\")\n",
    "    plt.plot(inputs[labels == 1, 1], inputs[labels == 1, 2], \"r.\")\n",
    "    \n",
    "    # Plot model separation line.\n",
    "    # w0 + w1*x1 + w2*x2 = 0.\n",
    "    x1 = np.array([-2, 2])\n",
    "    x2 = (-w[0] - w[1]*x1) / w[2]\n",
    "    plt.plot(x1, x2, 'k--')\n",
    "    plt.show()"
   ]
  },
  {
   "cell_type": "code",
   "execution_count": 44,
   "id": "8a25c802",
   "metadata": {},
   "outputs": [],
   "source": [
    "# Run 3 epochs\n",
    "\n",
    "# Plot hyperplane\n"
   ]
  },
  {
   "cell_type": "markdown",
   "id": "83b929cf",
   "metadata": {},
   "source": [
    "## Question 4\n",
    "\n",
    "Logistic Regression can also be used for multi-class classification. We will use logistic regression on real data to solve the task of classifying handwritten digits.\n",
    "\n",
    "The dataset is loaded below: "
   ]
  },
  {
   "cell_type": "code",
   "execution_count": 45,
   "id": "211f5f58",
   "metadata": {},
   "outputs": [
    {
     "name": "stdout",
     "output_type": "stream",
     "text": [
      "There are 1797 observations with 64 features classified into 10 classes.\n"
     ]
    },
    {
     "data": {
      "image/png": "[encoded data removed]",
      "text/plain": [
       "<Figure size 480x480 with 1 Axes>"
      ]
     },
     "metadata": {},
     "output_type": "display_data"
    }
   ],
   "source": [
    "from sklearn.datasets import load_digits\n",
    "data = load_digits()\n",
    "\n",
    "inputs = data.data  # num_examples x num_features\n",
    "labels = data.target  # num_examples x num_labels\n",
    "\n",
    "n, p = np.shape(inputs)\n",
    "n_classes = len(np.unique(labels))  # labels are 0, 1, ..., num_labels-1\n",
    "\n",
    "print(f'There are {n} observations with {p} features classified into {n_classes} classes.')\n",
    "\n",
    "# Augment points with a dimension for the bias.\n",
    "inputs = np.concatenate([np.ones((n, 1)), inputs], axis=1)\n",
    "\n",
    "# Observation example\n",
    "plt.matshow(data.images[17])\n",
    "plt.show()"
   ]
  },
  {
   "cell_type": "markdown",
   "id": "57ce5f6f",
   "metadata": {},
   "source": [
    "❓ Complete function `multi_class_lr_epoch` to run one epoch of stochastic gradient descent for multi-class logistic regression.\n",
    "\n",
    "*Hint:* When dealing with matrix calculus one needs to be careful with dimensions. An array with shape `(n,)` is not the same as an array with shape `(n,1)`. Function [`np.expand_dims`](https://numpy.org/doc/stable/reference/generated/numpy.expand_dims.html) is one way to reshape your arrays into the desired format."
   ]
  },
  {
   "cell_type": "code",
   "execution_count": 46,
   "id": "e386859d",
   "metadata": {},
   "outputs": [],
   "source": [
    "'''\n",
    "Receives:\n",
    "    inputs: observations array of shape (n x (p+1)) accounting for bias\n",
    "    labels: array of target values of shape (n, )\n",
    "    W: initial array of weights of shape (n_classes x (p+1) )\n",
    "    eta: scalar for learning rate\n",
    "Returns:\n",
    "    w: updated weights\n",
    "'''\n",
    "def multi_class_lr_epoch(inputs, labels, W, eta):\n",
    "    # For each observation in data\n",
    "    for (x,y) in zip (X_train, y_train):\n",
    "        \n",
    "        # Get probability scores according to the model (num_labels x 1).\n",
    "        score = w @ x\n",
    "    \n",
    "        \n",
    "        # One-hot encode true label (num_labels x 1).\n",
    "        e_y = np.zeros(n_classes)\n",
    "        e_y[y] =  1     \n",
    "\n",
    "\n",
    "        # Softmax function\n",
    "        # This gives the label probabilities according to the model (num_labels x 1).\n",
    "        exp_scores = np.exp(scores)\n",
    "        sum_exp_scores = np.sum(exp_scores)\n",
    "        probs = exp_scores / sum_exp_scores\n",
    "        \n",
    "        # SGD update. W is num_labels x num_features.\n",
    "        \n",
    "        W = W + eta * np.outer((e_y - probs) ,x)\n",
    "    return W"
   ]
  },
  {
   "cell_type": "markdown",
   "id": "e9e29b65",
   "metadata": {},
   "source": [
    "Let's split the data into train an test sets:"
   ]
  },
  {
   "cell_type": "code",
   "execution_count": 47,
   "id": "2221cc05",
   "metadata": {},
   "outputs": [],
   "source": [
    "from sklearn.model_selection import train_test_split\n",
    "\n",
    "X_train, X_test, y_train, y_test = train_test_split(inputs, labels, test_size=0.2, random_state=42)"
   ]
  },
  {
   "cell_type": "markdown",
   "id": "90bb9c92",
   "metadata": {},
   "source": [
    "❓ Run 100 epochs of your multi-class Logistic Regression algorithm on the training data, initializing weight matrix with zeros and learning rate of 0.001."
   ]
  },
  {
   "cell_type": "code",
   "execution_count": 48,
   "id": "45dee116",
   "metadata": {},
   "outputs": [],
   "source": [
    "# Your code here"
   ]
  },
  {
   "cell_type": "markdown",
   "id": "2d65b823",
   "metadata": {},
   "source": [
    "❓ Complete function `multi_class_classify` to generate predicted labels for provided inputs and trained weights $W$."
   ]
  },
  {
   "cell_type": "code",
   "execution_count": 49,
   "id": "1eaeb55f",
   "metadata": {},
   "outputs": [],
   "source": [
    "'''\n",
    "Receives:\n",
    "    inputs: observations of shape (n x (p+1))\n",
    "    W: weight matrix of shape (n_classes x p+1)\n",
    "Outputs: \n",
    "    y_hat: array of predicted labels of shape (n,)\n",
    "'''\n",
    "\n",
    "def multi_class_classify(inputs, W):\n",
    "    # Complete function\n",
    "    \n",
    "    \n",
    "    return y_hat"
   ]
  },
  {
   "cell_type": "markdown",
   "id": "55aaf737",
   "metadata": {},
   "source": [
    "❓ Use your function to obtain predictions for both train and test sets and compute their accuracy scores."
   ]
  },
  {
   "cell_type": "code",
   "execution_count": 50,
   "id": "3c321789",
   "metadata": {},
   "outputs": [],
   "source": [
    "# Your code here"
   ]
  },
  {
   "cell_type": "markdown",
   "id": "3384a5ab",
   "metadata": {},
   "source": [
    "We can compare our results with the ones obtained with Sklearn's implementation of Logistic Regression:"
   ]
  },
  {
   "cell_type": "code",
   "execution_count": 51,
   "id": "cecb3d9a",
   "metadata": {},
   "outputs": [
    {
     "name": "stdout",
     "output_type": "stream",
     "text": [
      "1.0\n",
      "0.9583333333333334\n"
     ]
    },
    {
     "name": "stderr",
     "output_type": "stream",
     "text": [
      "C:\\Users\\pinto\\anaconda3\\envs\\IST_DL21_Env\\lib\\site-packages\\sklearn\\linear_model\\_logistic.py:1182: FutureWarning: `penalty='none'`has been deprecated in 1.2 and will be removed in 1.4. To keep the past behaviour, set `penalty=None`.\n",
      "  warnings.warn(\n"
     ]
    }
   ],
   "source": [
    "from sklearn.linear_model import LogisticRegression\n",
    "clf = LogisticRegression(fit_intercept=False, penalty='none')\n",
    "clf.fit(X_train, y_train)\n",
    "print(clf.score(X_train, y_train))\n",
    "print(clf.score(X_test, y_test))"
   ]
  }
 ],
 "metadata": {
  "kernelspec": {
   "display_name": "Python 3 (ipykernel)",
   "language": "python",
   "name": "python3"
  },
  "language_info": {
   "codemirror_mode": {
    "name": "ipython",
    "version": 3
   },
   "file_extension": ".py",
   "mimetype": "text/x-python",
   "name": "python",
   "nbconvert_exporter": "python",
   "pygments_lexer": "ipython3",
   "version": "3.8.20"
  }
 },
 "nbformat": 4,
 "nbformat_minor": 5
}
